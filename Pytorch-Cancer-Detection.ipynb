{
 "metadata": {
  "language_info": {
   "codemirror_mode": {
    "name": "ipython",
    "version": 3
   },
   "file_extension": ".py",
   "mimetype": "text/x-python",
   "name": "python",
   "nbconvert_exporter": "python",
   "pygments_lexer": "ipython3",
   "version": 3
  },
  "orig_nbformat": 2
 },
 "nbformat": 4,
 "nbformat_minor": 2,
 "cells": [
  {
   "source": [
    "### Histopathologic Cancer Detection\n",
    "Identify metastatic tissue in histopathologic scans of lymph node sections\n",
    "\n"
   ],
   "cell_type": "markdown",
   "metadata": {}
  },
  {
   "cell_type": "code",
   "execution_count": null,
   "metadata": {},
   "outputs": [],
   "source": [
    "# Libraries\n",
    "import os\n",
    "import numpy as np\n",
    "import pandas as pd\n",
    "import cv2\n",
    "import matplotlib.pyplot as plt\n",
    "%matplotlib inline\n",
    "\n",
    "from sklearn.model_selection import train_test_split\n",
    "\n",
    "import torch\n",
    "import torch.nn as nn\n",
    "import torch.nn.functional as F\n",
    "import torchvision\n",
    "import torchvision.transforms as transforms\n",
    "from torch.utils.data import TensorDataset, DataLoader, Dataset"
   ]
  },
  {
   "cell_type": "code",
   "execution_count": null,
   "metadata": {},
   "outputs": [],
   "source": [
    "# Parameters for model.\n",
    "\n",
    "# Hyper parameters\n",
    "NUM_EPOCHS = 8\n",
    "NUM_CLASSES = 2\n",
    "BATCH_SIZE = 128\n",
    "LEARNING_RATE = 0.002\n",
    "\n",
    "# Device configuration\n",
    "device = torch.device('cuda:0' if torch.cuda.is_available() else 'cpu')\n",
    "device"
   ]
  },
  {
   "cell_type": "code",
   "execution_count": null,
   "metadata": {},
   "outputs": [],
   "source": [
    "labels = pd.read_csv('/content/input/train_labels.csv')\n",
    "sub = pd.read_csv('/content/input/sample_submission.csv')\n",
    "train_path = '/content/input/train/'\n",
    "test_path = '/content/input/test/'"
   ]
  },
  {
   "cell_type": "code",
   "execution_count": null,
   "metadata": {},
   "outputs": [],
   "source": [
    "# splitting data into train and Val\n",
    "train, val = train_test_split(labels, stratify=labels.label, test_size=0.1)\n",
    "len(train), len(val)"
   ]
  },
  {
   "source": [
    "### Simple Custom data generator"
   ],
   "cell_type": "markdown",
   "metadata": {}
  },
  {
   "cell_type": "code",
   "execution_count": null,
   "metadata": {},
   "outputs": [],
   "source": [
    "class MyDataset(Dataset):\n",
    "    def __init__(self, df_data, data_dir = './', transform=None):\n",
    "        super().__init__()\n",
    "        self.df = df_data.values\n",
    "        self.data_dir = data_dir\n",
    "        self.transform = transform\n",
    "\n",
    "    def __len__(self):\n",
    "        return len(self.df)\n",
    "    \n",
    "    def __getitem__(self, index):\n",
    "        img_name,label = self.df[index]\n",
    "        img_path = os.path.join(self.data_dir, img_name)\n",
    "        image = cv2.imread(img_path)\n",
    "        if self.transform is not None:\n",
    "            image = self.transform(image)\n",
    "        return image, label"
   ]
  },
  {
   "cell_type": "code",
   "execution_count": null,
   "metadata": {},
   "outputs": [],
   "source": [
    "trans_train = transforms.Compose([transforms.ToPILImage(),\n",
    "                                  transforms.Pad(64, padding_mode='reflect'),\n",
    "                                  transforms.RandomHorizontalFlip(), \n",
    "                                  transforms.RandomVerticalFlip(),\n",
    "                                  transforms.RandomRotation(20), \n",
    "                                  transforms.ToTensor(),\n",
    "                                  transforms.Normalize(mean=[0.5, 0.5, 0.5],\n",
    "                                                       std=[0.5, 0.5, 0.5])])\n",
    "\n",
    "trans_valid = transforms.Compose([transforms.ToPILImage(),\n",
    "                                  transforms.Pad(64, padding_mode='reflect'),\n",
    "                                  transforms.ToTensor(),\n",
    "                                  transforms.Normalize(mean=[0.5, 0.5, 0.5],\n",
    "                                                       std=[0.5, 0.5, 0.5])])\n",
    "\n",
    "\n",
    "dataset_train = MyDataset(df_data=train, data_dir='', transform=None)\n",
    "dataset_valid = MyDataset(df_data=val, data_dir=train_path, transform=trans_valid)\n",
    "\n",
    "loader_train = DataLoader(dataset = dataset_train, batch_size=BATCH_SIZE, \n",
    "                          shuffle=True, num_workers=0)\n",
    "loader_valid = DataLoader(dataset = dataset_valid, batch_size=BATCH_SIZE//2, \n",
    "                          shuffle=False, num_workers=0)\n"
   ]
  },
  {
   "source": [
    "### Model"
   ],
   "cell_type": "markdown",
   "metadata": {}
  },
  {
   "cell_type": "code",
   "execution_count": null,
   "metadata": {},
   "outputs": [],
   "source": [
    "class SimpleCNN(nn.Module):\n",
    "\n",
    "  def __init__(self):\n",
    "    # ancestor constructor call\n",
    "    super(SimpleCNN, self).__init__()\n",
    "\n",
    "    # Convolution2d layer\n",
    "    self.conv1 = nn.Conv2d(in_channels=3, out_channels=32, \n",
    "                           kernel_size=3, padding=2)\n",
    "    self.conv2 = nn.Conv2d(in_channels=32, out_channels=64,\n",
    "                           kernel_size=3, padding=2)\n",
    "    self.conv3 = nn.Conv2d(in_channels=64, out_channels=128,\n",
    "                           kernel_size=3, padding=2)\n",
    "    self.conv4 = nn.Conv2d(in_channels=128, out_channels=256,\n",
    "                           kernel_size=3, padding=2)\n",
    "    self.conv5 = nn.Conv2d(in_channels=256, out_channels=512,\n",
    "                           kernel_size=3, padding=2)\n",
    "    \n",
    "    # batch normalization\n",
    "    self.bn1 = nn.BatchNorm2d(32)\n",
    "    self.bn2 = nn.BatchNorm2d(64)\n",
    "    self.bn3 = nn.BatchNorm2d(128)\n",
    "    self.bn4 = nn.BatchNorm2d(256)\n",
    "    self.bn5 = nn.BatchNorm2d(512)\n",
    "\n",
    "    # Max pooling\n",
    "    self.pool = nn.MaxPool2d(kernel_size=2, stride=2)\n",
    "\n",
    "    # Avg pooling\n",
    "    self.avg = nn.AvgPool2d(8)\n",
    "\n",
    "    # fully connected layer\n",
    "    self.fc = nn.Linear(512*1*1, 2)\n",
    "\n",
    "    # fwd layer\n",
    "    def forward(self, x):\n",
    "\n",
    "      # Conv layer -> Batch Norm -> Activation -> Pooling\n",
    "      x = self.pool(F.leaky_relu(self.bn1(self.conv1(x))))\n",
    "      x = self.pool(F.leaky_relu(self.bn2(self.conv2(x))))\n",
    "      x = self.pool(F.leaky_relu(self.bn3(self.conv3(x))))\n",
    "      x = self.pool(F.leaky_relu(self.bn4(self.conv4(x))))\n",
    "      x = self.pool(F.leaky_relu(self.bn5(self.conv5(x))))\n",
    "      x = self.avg(x)\n",
    "      print(x.shape)\n",
    "\n",
    "      # size (batch_size, C, H, W)\n",
    "      x = x.view(-1, 512*1*1)\n",
    "      x = self.fc(x)\n",
    "      return x"
   ]
  },
  {
   "cell_type": "code",
   "execution_count": null,
   "metadata": {},
   "outputs": [],
   "source": [
    "model = SimpleCNN().to(device)"
   ]
  },
  {
   "cell_type": "code",
   "execution_count": null,
   "metadata": {},
   "outputs": [],
   "source": [
    "# Loss and Optimizer\n",
    "criterion = nn.CrossEntropyLoss()\n",
    "optimizer = torch.optim.Adamax(model.parameters(), lr=LEARNING_RATE)"
   ]
  },
  {
   "cell_type": "code",
   "execution_count": null,
   "metadata": {},
   "outputs": [],
   "source": [
    "# Train the model\n",
    "total_step = len(loader_train)\n",
    "for epoch in range(NUM_EPOCHS):\n",
    "    for i, (images, labels) in enumerate(loader_train):\n",
    "        images = images.to(device)\n",
    "        labels = labels.to(device)\n",
    "        \n",
    "        # Forward pass\n",
    "        outputs = model(images)\n",
    "        loss = criterion(outputs, labels)\n",
    "        \n",
    "        # Backward and optimize\n",
    "        optimizer.zero_grad()\n",
    "        loss.backward()\n",
    "        optimizer.step()\n",
    "        \n",
    "        if (i+1) % 100 == 0:\n",
    "            print ('Epoch [{}/{}], Step [{}/{}], Loss: {:.4f}' \n",
    "                   .format(epoch+1, num_epochs, i+1, total_step, loss.item()))"
   ]
  },
  {
   "source": [
    "### Accuracy Check"
   ],
   "cell_type": "markdown",
   "metadata": {}
  },
  {
   "cell_type": "code",
   "execution_count": null,
   "metadata": {},
   "outputs": [],
   "source": [
    "# Test the model\n",
    "model.eval()  # eval mode (batchnorm uses moving mean/variance instead of mini-batch mean/variance)\n",
    "with torch.no_grad():\n",
    "    correct = 0\n",
    "    total = 0\n",
    "    for images, labels in loader_valid:\n",
    "        images = images.to(device)\n",
    "        labels = labels.to(device)\n",
    "        outputs = model(images)\n",
    "        _, predicted = torch.max(outputs.data, 1)\n",
    "        total += labels.size(0)\n",
    "        correct += (predicted == labels).sum().item()\n",
    "          \n",
    "    print('Test Accuracy of the model on the 22003 test images: {} %'.format(100 * correct / total))\n",
    "\n",
    "# Save the model checkpoint\n",
    "torch.save(model.state_dict(), 'trained_model.ckpt')"
   ]
  },
  {
   "source": [
    "### CSV Submission"
   ],
   "cell_type": "markdown",
   "metadata": {}
  },
  {
   "cell_type": "code",
   "execution_count": null,
   "metadata": {},
   "outputs": [],
   "source": [
    "dataset_valid = MyDataset(df_data=sub, data_dir=test_path, transform=trans_valid)\n",
    "loader_test = DataLoader(dataset = dataset_valid, batch_size=32, shuffle=False, num_workers=0)"
   ]
  },
  {
   "cell_type": "code",
   "execution_count": null,
   "metadata": {},
   "outputs": [],
   "source": [
    "model.eval()\n",
    "\n",
    "preds = []\n",
    "for batch_i, (data, target) in enumerate(loader_test):\n",
    "    data, target = data.cuda(), target.cuda()\n",
    "    output = model(data)\n",
    "\n",
    "    pr = output[:,1].detach().cpu().numpy()\n",
    "    for i in pr:\n",
    "        preds.append(i)\n",
    "sub.shape, len(preds)\n",
    "sub['label'] = preds\n",
    "sub.to_csv('submission_file.csv', index=False)"
   ]
  }
 ]
}